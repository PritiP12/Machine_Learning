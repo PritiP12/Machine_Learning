{
  "nbformat": 4,
  "nbformat_minor": 0,
  "metadata": {
    "colab": {
      "name": "ML_revenue_prediction.ipynb",
      "provenance": [],
      "collapsed_sections": [],
      "authorship_tag": "ABX9TyN0p/JvvdJer4CCjiv316Xo",
      "include_colab_link": true
    },
    "kernelspec": {
      "name": "python3",
      "display_name": "Python 3"
    }
  },
  "cells": [
    {
      "cell_type": "markdown",
      "metadata": {
        "id": "view-in-github",
        "colab_type": "text"
      },
      "source": [
        "<a href=\"https://colab.research.google.com/github/PritiP12/Machine_Learning/blob/master/ML_revenue_prediction.ipynb\" target=\"_parent\"><img src=\"https://colab.research.google.com/assets/colab-badge.svg\" alt=\"Open In Colab\"/></a>"
      ]
    },
    {
      "cell_type": "code",
      "metadata": {
        "id": "8CSHuUkkMhFF",
        "colab_type": "code",
        "colab": {}
      },
      "source": [
        "## Load libraries\n",
        "import seaborn as sns; sns.set(color_codes=True)\n",
        "import matplotlib.pyplot as plt\n",
        "%matplotlib inline\n",
        "import numpy as np # linear algebra\n",
        "import pandas as pd"
      ],
      "execution_count": 0,
      "outputs": []
    },
    {
      "cell_type": "code",
      "metadata": {
        "id": "ast4v8XRMnUW",
        "colab_type": "code",
        "colab": {}
      },
      "source": [
        "##load data\n",
        "train = pd.read_csv('/content/res_train.csv')\n",
        "test = pd.read_csv('/content/res_test.csv')"
      ],
      "execution_count": 0,
      "outputs": []
    },
    {
      "cell_type": "code",
      "metadata": {
        "id": "ViUxuhkUMvfV",
        "colab_type": "code",
        "outputId": "1ad70424-6292-42bc-f91b-d1950cbb9796",
        "colab": {
          "base_uri": "https://localhost:8080/",
          "height": 51
        }
      },
      "source": [
        "## Descriptive data\n",
        "print(\"Train :\",train.shape)\n",
        "print(\"Test:\",test.shape)"
      ],
      "execution_count": 0,
      "outputs": [
        {
          "output_type": "stream",
          "text": [
            "Train : (137, 43)\n",
            "Test: (100000, 42)\n"
          ],
          "name": "stdout"
        }
      ]
    },
    {
      "cell_type": "code",
      "metadata": {
        "id": "B6agW3zvNNqL",
        "colab_type": "code",
        "outputId": "d38d4a3a-eb45-4d9b-a7e6-91368b361dcd",
        "colab": {
          "base_uri": "https://localhost:8080/",
          "height": 34
        }
      },
      "source": [
        "### get column with null values  \n",
        "train.columns[train.isna().any()].tolist()"
      ],
      "execution_count": 0,
      "outputs": [
        {
          "output_type": "execute_result",
          "data": {
            "text/plain": [
              "[]"
            ]
          },
          "metadata": {
            "tags": []
          },
          "execution_count": 54
        }
      ]
    },
    {
      "cell_type": "code",
      "metadata": {
        "id": "d3vSguNQQmN_",
        "colab_type": "code",
        "colab": {}
      },
      "source": [
        "train['Open Date'] = pd.to_datetime(train['Open Date'])\n",
        "test['Open Date'] = pd.to_datetime(test['Open Date'])"
      ],
      "execution_count": 0,
      "outputs": []
    },
    {
      "cell_type": "code",
      "metadata": {
        "id": "ifLfVM5wQrFF",
        "colab_type": "code",
        "colab": {}
      },
      "source": [
        "#Seperate categorical from numberical variables for analysis \n",
        "\n",
        "numerical_features = train.select_dtypes([np.number]).copy()\n",
        "numerical_cols = numerical_features.columns\n",
        "\n",
        "categorical_features = train.select_dtypes(exclude = [np.number,np.datetime64]).copy()\n",
        "categorical_cols = categorical_features.columns"
      ],
      "execution_count": 0,
      "outputs": []
    },
    {
      "cell_type": "code",
      "metadata": {
        "id": "amNVddCYQyov",
        "colab_type": "code",
        "outputId": "e2a34846-9852-4189-b5df-39f97ee11caf",
        "colab": {
          "base_uri": "https://localhost:8080/",
          "height": 136
        }
      },
      "source": [
        "print(numerical_cols)\n",
        "print(\"*\"*100)\n",
        "print(categorical_cols)"
      ],
      "execution_count": 0,
      "outputs": [
        {
          "output_type": "stream",
          "text": [
            "Index(['Id', 'P1', 'P2', 'P3', 'P4', 'P5', 'P6', 'P7', 'P8', 'P9', 'P10',\n",
            "       'P11', 'P12', 'P13', 'P14', 'P15', 'P16', 'P17', 'P18', 'P19', 'P20',\n",
            "       'P21', 'P22', 'P23', 'P24', 'P25', 'P26', 'P27', 'P28', 'P29', 'P30',\n",
            "       'P31', 'P32', 'P33', 'P34', 'P35', 'P36', 'P37', 'revenue'],\n",
            "      dtype='object')\n",
            "****************************************************************************************************\n",
            "Index(['City', 'City Group', 'Type'], dtype='object')\n"
          ],
          "name": "stdout"
        }
      ]
    },
    {
      "cell_type": "code",
      "metadata": {
        "id": "lAvLrZcjQ_Rs",
        "colab_type": "code",
        "colab": {}
      },
      "source": [
        "##Analyzing Numerical Variables"
      ],
      "execution_count": 0,
      "outputs": []
    },
    {
      "cell_type": "code",
      "metadata": {
        "id": "aNCkB0XrTTGz",
        "colab_type": "code",
        "outputId": "490d4ad8-9f4f-4091-eb5a-7f2c67c07770",
        "colab": {
          "base_uri": "https://localhost:8080/",
          "height": 466
        }
      },
      "source": [
        "# Check the target column distribution ['revenue']:\n",
        "\n",
        "print(train['revenue'].describe())\n",
        "sns.distplot(train['revenue']);\n",
        "#skewness\n",
        "print(\"Skewness: %f\" % train['revenue'].skew())"
      ],
      "execution_count": 0,
      "outputs": [
        {
          "output_type": "stream",
          "text": [
            "count    1.370000e+02\n",
            "mean     4.453533e+06\n",
            "std      2.576072e+06\n",
            "min      1.149870e+06\n",
            "25%      2.999068e+06\n",
            "50%      3.939804e+06\n",
            "75%      5.166635e+06\n",
            "max      1.969694e+07\n",
            "Name: revenue, dtype: float64\n",
            "Skewness: 2.793479\n"
          ],
          "name": "stdout"
        },
        {
          "output_type": "display_data",
          "data": {
            "image/png": "[encoded data removed]",
            "text/plain": [
              "<Figure size 432x288 with 1 Axes>"
            ]
          },
          "metadata": {
            "tags": [],
            "needs_background": "light"
          }
        }
      ]
    },
    {
      "cell_type": "code",
      "metadata": {
        "id": "tpAxnS2sTfGf",
        "colab_type": "code",
        "colab": {}
      },
      "source": [
        "## finding skewness and taking log for numerical data:\n",
        "\n",
        "class skew_dict(dict):\n",
        "  def __init__(self): \n",
        "        self = dict() \n",
        "\n",
        "  def add(self,key,value):\n",
        "    self[key]=value\n",
        "\n",
        "skewd=skew_dict()\n",
        "#kurtd=skew_dict()\n",
        "for i in numerical_cols:\n",
        "        skewd.add(i,numerical_features[i].skew())\n",
        "\n",
        "for j in skewd:\n",
        "  if (skewd[j] < -0.5) or (skewd[j] > 0.5):\n",
        "    print(j)\n",
        "    print('{0}_Log'.format(j))\n",
        "    numerical_features['{0}_Log'.format(j)]=np.log(numerical_features[j])\n",
        "    numerical_features.drop(j,inplace=True,axis=1)\n",
        "\n",
        "numerical_features.replace([-np.inf],0,inplace = True)\n",
        "numerical_features"
      ],
      "execution_count": 0,
      "outputs": []
    },
    {
      "cell_type": "code",
      "metadata": {
        "id": "uVko6P3FUkaJ",
        "colab_type": "code",
        "colab": {}
      },
      "source": [
        "# Applying label encoding on categorical data\n",
        "from sklearn import preprocessing\n",
        "le = preprocessing.LabelEncoder()\n",
        "\n",
        "for i in categorical_cols:\n",
        "  categorical_features[i]=le.fit_transform(categorical_features[i])\n",
        "categorical_features"
      ],
      "execution_count": 0,
      "outputs": []
    },
    {
      "cell_type": "code",
      "metadata": {
        "id": "AtRc4tNpVZB2",
        "colab_type": "code",
        "colab": {}
      },
      "source": [
        "#finding skewness and taking log for categorical data\n",
        "\n",
        "class skew_dict(dict):\n",
        "  def __init__(self): \n",
        "        self = dict() \n",
        "\n",
        "  def add(self,key,value):\n",
        "    self[key]=value\n",
        "\n",
        "skewd=skew_dict()\n",
        "#kurtd=skew_dict()\n",
        "for i in categorical_cols:\n",
        "        skewd.add(i,categorical_features[i].skew())\n",
        "        #kurtd.add(i,train_numerical[i].kurt())\n",
        "print(skewd)\n",
        "\n",
        "for j in skewd:\n",
        "  if (skewd[j] < -0.5) or (skewd[j] > 0.5):\n",
        "    print(j)\n",
        "    print('{0}_Log'.format(j))\n",
        "    categorical_features['{0}_Log'.format(j)]=np.log(categorical_features[j])\n",
        "    categorical_features.drop(j,inplace=True,axis=1)\n",
        "#Replacing nan and -infs with 0\n",
        "\n",
        "categorical_features.replace([-np.inf],0,inplace = True)\n",
        "categorical_features"
      ],
      "execution_count": 0,
      "outputs": []
    },
    {
      "cell_type": "code",
      "metadata": {
        "id": "pcirxy4BV2FR",
        "colab_type": "code",
        "colab": {}
      },
      "source": [
        "#replacing column name with transforemd log column name\n",
        "numerical_cols=numerical_features.columns\n",
        "categorical_cols=categorical_features.columns\n",
        "#numerical_cols\n",
        "categorical_cols"
      ],
      "execution_count": 0,
      "outputs": []
    },
    {
      "cell_type": "code",
      "metadata": {
        "id": "1S3LiC6mWGJG",
        "colab_type": "code",
        "colab": {}
      },
      "source": [
        "# taking revenue in 1 dataframe for both categorical and numerical plotting\n",
        "revenue_Log_df=pd.DataFrame()\n",
        "revenue_Log_df['revenue_Log']=np.log(train['revenue']).copy()\n",
        "revenue_Log_df"
      ],
      "execution_count": 0,
      "outputs": []
    },
    {
      "cell_type": "code",
      "metadata": {
        "id": "J_Aqp7eFWW7S",
        "colab_type": "code",
        "colab": {}
      },
      "source": [
        "#plotting correlation for numerical features\n",
        "\n",
        "from scipy.stats.stats import pearsonr\n",
        "import seaborn as sns\n",
        "import matplotlib.pyplot as plt\n",
        "sns.set(color_codes=True)\n",
        "numerical_corr=pd.DataFrame()\n",
        "nr=13\n",
        "nc=3\n",
        "fig, axes = plt.subplots(nr,nc, figsize=(10,30))\n",
        "#train_numerical_col=train_numerical.columns\n",
        "\n",
        "for r in range(0,13,1):\n",
        "  for c in range (0,3,1):\n",
        "      i=r*nc+c\n",
        "      try:\n",
        "        #sns.regplot(df_train[li_plot_num_feats[i]], df_train[target], ax = axs[r][c])\n",
        "        #stp = stats.pearsonr(df_train[li_plot_num_feats[i]], df_train[target])\n",
        "\n",
        "\n",
        "        corr, p_value = pearsonr(numerical_features[numerical_cols[i]], revenue_Log_df['revenue_Log'])\n",
        "        sns.regplot(x=numerical_features[numerical_cols[i]], y=revenue_Log_df['revenue_Log'],ax=axes[r][c])\n",
        "        if (corr < -0.08) or (corr > 0.08):\n",
        "            numerical_corr[numerical_cols[i]]=numerical_features[numerical_cols[i]].copy()\n",
        "        axes[r][c].set_xlabel(numerical_cols[i],labelpad=3,fontsize=15)\n",
        "        axes[r][c].set_ylabel('revenue_Log',fontsize=20)\n",
        "        axes[r][c].set_title('corr:{0:4.2f}'.format(corr),size=20)\n",
        "        \n",
        "      except IndexError as error:\n",
        "        print(\"Running!!!\") \n",
        "fig.tight_layout()\n",
        "plt.savefig('correlation.jpg')\n",
        "plt.show()"
      ],
      "execution_count": 0,
      "outputs": []
    },
    {
      "cell_type": "code",
      "metadata": {
        "id": "qlDbte8SX_K5",
        "colab_type": "code",
        "colab": {}
      },
      "source": [
        "#plotting correlation for categorical features\n",
        "\n",
        "from scipy.stats.stats import pearsonr\n",
        "categorical_corr=pd.DataFrame()\n",
        "nr=2\n",
        "nc=3\n",
        "fig, axes = plt.subplots(nr,nc, figsize=(10,20))\n",
        "count=1\n",
        "for r in range(0,2,1):\n",
        "  for c in range (0,3,1):\n",
        "      i=r*nc+c\n",
        "      try:\n",
        "        corr, p_value = pearsonr(categorical_features[categorical_cols[i]], y=revenue_Log_df['revenue_Log'])\n",
        "        sns.regplot(x=categorical_features[categorical_cols[i]], y=revenue_Log_df['revenue_Log'],ax=axes[r][c])\n",
        "        if (corr < -0.06) or (corr > 0.06):\n",
        "          categorical_corr[categorical_cols[i]]=categorical_features[categorical_cols[i]]\n",
        "        axes[r][c].set_xlabel(categorical_cols[i],labelpad=3,fontsize=15)\n",
        "        axes[r][c].set_ylabel('revenue_Log',fontsize=20)\n",
        "        axes[r][c].set_title('corr:{0:4.2f}'.format(corr),size=20)\n",
        "        count=count+1\n",
        "      except IndexError as error:\n",
        "        print(\"Running!!!\") \n",
        "fig.tight_layout()\n",
        "plt.savefig('correlation.jpg')\n",
        "plt.show()"
      ],
      "execution_count": 0,
      "outputs": []
    },
    {
      "cell_type": "code",
      "metadata": {
        "id": "1qHh9ZeMaeuo",
        "colab_type": "code",
        "colab": {}
      },
      "source": [
        "numerical_corr"
      ],
      "execution_count": 0,
      "outputs": []
    },
    {
      "cell_type": "code",
      "metadata": {
        "id": "2AxHQjivb1MK",
        "colab_type": "code",
        "colab": {}
      },
      "source": [
        "categorical_corr"
      ],
      "execution_count": 0,
      "outputs": []
    },
    {
      "cell_type": "code",
      "metadata": {
        "id": "RNXH6vHUe5k_",
        "colab_type": "code",
        "colab": {}
      },
      "source": [
        "#concatenating both dataframe\n",
        "train_cat_num=pd.DataFrame()\n",
        "train_cat_num=pd.concat([numerical_corr,categorical_corr],axis=1)\n",
        "train_cat_num"
      ],
      "execution_count": 0,
      "outputs": []
    },
    {
      "cell_type": "code",
      "metadata": {
        "id": "1M5RpJP-7TNr",
        "colab_type": "code",
        "colab": {}
      },
      "source": [
        "corr_heatmap=train_cat_num.corr()\n",
        "corr_heatmap"
      ],
      "execution_count": 0,
      "outputs": []
    },
    {
      "cell_type": "code",
      "metadata": {
        "id": "WvHoSEr_7kAm",
        "colab_type": "code",
        "colab": {}
      },
      "source": [
        "### Features with largest correlation\n",
        "\n",
        "for i in corr_heatmap:\n",
        "  for j in corr_heatmap[i]:\n",
        "     if (j>-0.55) and (j<0.8):\n",
        "       corr_heatmap.replace(to_replace =j,value= np.nan,inplace=True) \n",
        "\n",
        "fig, ax = plt.subplots(figsize=(15,7)) \n",
        "sns.heatmap(corr_heatmap, annot = True,linewidths=.5)"
      ],
      "execution_count": 0,
      "outputs": []
    },
    {
      "cell_type": "code",
      "metadata": {
        "id": "2bWwigB7OpKG",
        "colab_type": "code",
        "colab": {}
      },
      "source": [
        "#to_drop = [column for column in train_cat_num if any(train_cat_num[column] > 0.96)]\n"
      ],
      "execution_count": 0,
      "outputs": []
    },
    {
      "cell_type": "code",
      "metadata": {
        "id": "NRfR1GNcbVSl",
        "colab_type": "code",
        "outputId": "c1da1c58-95b4-407a-c381-678b3b3b8bef",
        "colab": {
          "base_uri": "https://localhost:8080/",
          "height": 34
        }
      },
      "source": [
        "## drop minimum correlated features\n",
        "[train_cat_num.drop(col ,axis=1,inplace=True) for col in train_cat_num if col not in ['P2','P1_Log','P24_Log','P25_Log','revenue_Log']]"
      ],
      "execution_count": 0,
      "outputs": [
        {
          "output_type": "execute_result",
          "data": {
            "text/plain": [
              "[None, None, None, None, None, None, None, None, None, None, None, None]"
            ]
          },
          "metadata": {
            "tags": []
          },
          "execution_count": 90
        }
      ]
    },
    {
      "cell_type": "code",
      "metadata": {
        "id": "WE0EWt2Wbcss",
        "colab_type": "code",
        "colab": {}
      },
      "source": [
        "train_cat_num"
      ],
      "execution_count": 0,
      "outputs": []
    },
    {
      "cell_type": "code",
      "metadata": {
        "id": "0pvl_6MOdJ6b",
        "colab_type": "code",
        "colab": {}
      },
      "source": [
        "### build model\n",
        "\n",
        "from sklearn.model_selection import train_test_split\n",
        "\n",
        "X = train_cat_num[['P2','P1_Log','P24_Log','P25_Log']]\n",
        "y = train_cat_num['revenue_Log']\n",
        "\n",
        "print(X)\n",
        "print(y)\n",
        "\n",
        "X_train, X_test, y_train, y_test = train_test_split(X, y, test_size=0.2, random_state=0)"
      ],
      "execution_count": 0,
      "outputs": []
    },
    {
      "cell_type": "code",
      "metadata": {
        "id": "38RCswcbdXNp",
        "colab_type": "code",
        "outputId": "502728c4-de53-4c3a-e281-b638bed8b91d",
        "colab": {
          "base_uri": "https://localhost:8080/",
          "height": 628
        }
      },
      "source": [
        "import seaborn as seabornInstance\n",
        "\n",
        "plt.figure(figsize=(15,10))\n",
        "plt.tight_layout()\n",
        "seabornInstance.distplot(train_cat_num['revenue_Log'])"
      ],
      "execution_count": 0,
      "outputs": [
        {
          "output_type": "execute_result",
          "data": {
            "text/plain": [
              "<matplotlib.axes._subplots.AxesSubplot at 0x7fcb69ce6da0>"
            ]
          },
          "metadata": {
            "tags": []
          },
          "execution_count": 93
        },
        {
          "output_type": "display_data",
          "data": {
            "image/png": "[encoded data removed]",
            "text/plain": [
              "<Figure size 1080x720 with 1 Axes>"
            ]
          },
          "metadata": {
            "tags": []
          }
        }
      ]
    },
    {
      "cell_type": "code",
      "metadata": {
        "id": "JxSIgAgpdefF",
        "colab_type": "code",
        "colab": {}
      },
      "source": [
        "#To see what coefficients our regression model has choosen\n",
        "regressor = LinearRegression()  \n",
        "regressor.fit(X_train, y_train)\n",
        "\n",
        "from sklearn.linear_model import LinearRegression\n",
        "\n",
        "coeff_df = pd.DataFrame(regressor.coef_, X.columns, columns=['Coefficient'])  \n",
        "coeff_df"
      ],
      "execution_count": 0,
      "outputs": []
    },
    {
      "cell_type": "code",
      "metadata": {
        "id": "EbJ9xseqdoAM",
        "colab_type": "code",
        "colab": {}
      },
      "source": [
        "y_pred = regressor.predict(X_test)"
      ],
      "execution_count": 0,
      "outputs": []
    },
    {
      "cell_type": "code",
      "metadata": {
        "id": "CngqmxtgdzvX",
        "colab_type": "code",
        "outputId": "d5c662b2-c873-4ef2-c1e2-e72ce61dd92c",
        "colab": {
          "base_uri": "https://localhost:8080/",
          "height": 824
        }
      },
      "source": [
        "df = pd.DataFrame({'Actual': y_test, 'Predicted': y_pred})\n",
        "\n",
        "df.head(25)"
      ],
      "execution_count": 0,
      "outputs": [
        {
          "output_type": "execute_result",
          "data": {
            "text/html": [
              "<div>\n",
              "<style scoped>\n",
              "    .dataframe tbody tr th:only-of-type {\n",
              "        vertical-align: middle;\n",
              "    }\n",
              "\n",
              "    .dataframe tbody tr th {\n",
              "        vertical-align: top;\n",
              "    }\n",
              "\n",
              "    .dataframe thead th {\n",
              "        text-align: right;\n",
              "    }\n",
              "</style>\n",
              "<table border=\"1\" class=\"dataframe\">\n",
              "  <thead>\n",
              "    <tr style=\"text-align: right;\">\n",
              "      <th></th>\n",
              "      <th>Actual</th>\n",
              "      <th>Predicted</th>\n",
              "    </tr>\n",
              "  </thead>\n",
              "  <tbody>\n",
              "    <tr>\n",
              "      <th>26</th>\n",
              "      <td>14.634155</td>\n",
              "      <td>15.289053</td>\n",
              "    </tr>\n",
              "    <tr>\n",
              "      <th>8</th>\n",
              "      <td>15.415402</td>\n",
              "      <td>15.044554</td>\n",
              "    </tr>\n",
              "    <tr>\n",
              "      <th>86</th>\n",
              "      <td>15.024884</td>\n",
              "      <td>15.011963</td>\n",
              "    </tr>\n",
              "    <tr>\n",
              "      <th>78</th>\n",
              "      <td>15.169112</td>\n",
              "      <td>15.486058</td>\n",
              "    </tr>\n",
              "    <tr>\n",
              "      <th>43</th>\n",
              "      <td>14.820781</td>\n",
              "      <td>15.171102</td>\n",
              "    </tr>\n",
              "    <tr>\n",
              "      <th>85</th>\n",
              "      <td>15.829759</td>\n",
              "      <td>15.230753</td>\n",
              "    </tr>\n",
              "    <tr>\n",
              "      <th>22</th>\n",
              "      <td>15.190766</td>\n",
              "      <td>15.205366</td>\n",
              "    </tr>\n",
              "    <tr>\n",
              "      <th>50</th>\n",
              "      <td>14.583811</td>\n",
              "      <td>15.289053</td>\n",
              "    </tr>\n",
              "    <tr>\n",
              "      <th>45</th>\n",
              "      <td>15.138035</td>\n",
              "      <td>15.255110</td>\n",
              "    </tr>\n",
              "    <tr>\n",
              "      <th>24</th>\n",
              "      <td>16.002021</td>\n",
              "      <td>15.226383</td>\n",
              "    </tr>\n",
              "    <tr>\n",
              "      <th>59</th>\n",
              "      <td>15.096574</td>\n",
              "      <td>15.195459</td>\n",
              "    </tr>\n",
              "    <tr>\n",
              "      <th>113</th>\n",
              "      <td>14.556029</td>\n",
              "      <td>15.121358</td>\n",
              "    </tr>\n",
              "    <tr>\n",
              "      <th>54</th>\n",
              "      <td>15.352779</td>\n",
              "      <td>15.171102</td>\n",
              "    </tr>\n",
              "    <tr>\n",
              "      <th>27</th>\n",
              "      <td>15.508421</td>\n",
              "      <td>15.195459</td>\n",
              "    </tr>\n",
              "    <tr>\n",
              "      <th>62</th>\n",
              "      <td>15.480612</td>\n",
              "      <td>15.263505</td>\n",
              "    </tr>\n",
              "    <tr>\n",
              "      <th>115</th>\n",
              "      <td>15.401267</td>\n",
              "      <td>15.265916</td>\n",
              "    </tr>\n",
              "    <tr>\n",
              "      <th>114</th>\n",
              "      <td>15.239928</td>\n",
              "      <td>15.287862</td>\n",
              "    </tr>\n",
              "    <tr>\n",
              "      <th>122</th>\n",
              "      <td>15.271015</td>\n",
              "      <td>15.701965</td>\n",
              "    </tr>\n",
              "    <tr>\n",
              "      <th>104</th>\n",
              "      <td>15.312391</td>\n",
              "      <td>15.195459</td>\n",
              "    </tr>\n",
              "    <tr>\n",
              "      <th>84</th>\n",
              "      <td>15.262560</td>\n",
              "      <td>15.006146</td>\n",
              "    </tr>\n",
              "    <tr>\n",
              "      <th>60</th>\n",
              "      <td>14.967655</td>\n",
              "      <td>15.450764</td>\n",
              "    </tr>\n",
              "    <tr>\n",
              "      <th>18</th>\n",
              "      <td>15.490273</td>\n",
              "      <td>15.113728</td>\n",
              "    </tr>\n",
              "    <tr>\n",
              "      <th>92</th>\n",
              "      <td>15.729845</td>\n",
              "      <td>15.334165</td>\n",
              "    </tr>\n",
              "    <tr>\n",
              "      <th>33</th>\n",
              "      <td>14.678908</td>\n",
              "      <td>15.061707</td>\n",
              "    </tr>\n",
              "    <tr>\n",
              "      <th>94</th>\n",
              "      <td>15.138258</td>\n",
              "      <td>14.513071</td>\n",
              "    </tr>\n",
              "  </tbody>\n",
              "</table>\n",
              "</div>"
            ],
            "text/plain": [
              "        Actual  Predicted\n",
              "26   14.634155  15.289053\n",
              "8    15.415402  15.044554\n",
              "86   15.024884  15.011963\n",
              "78   15.169112  15.486058\n",
              "43   14.820781  15.171102\n",
              "85   15.829759  15.230753\n",
              "22   15.190766  15.205366\n",
              "50   14.583811  15.289053\n",
              "45   15.138035  15.255110\n",
              "24   16.002021  15.226383\n",
              "59   15.096574  15.195459\n",
              "113  14.556029  15.121358\n",
              "54   15.352779  15.171102\n",
              "27   15.508421  15.195459\n",
              "62   15.480612  15.263505\n",
              "115  15.401267  15.265916\n",
              "114  15.239928  15.287862\n",
              "122  15.271015  15.701965\n",
              "104  15.312391  15.195459\n",
              "84   15.262560  15.006146\n",
              "60   14.967655  15.450764\n",
              "18   15.490273  15.113728\n",
              "92   15.729845  15.334165\n",
              "33   14.678908  15.061707\n",
              "94   15.138258  14.513071"
            ]
          },
          "metadata": {
            "tags": []
          },
          "execution_count": 97
        }
      ]
    },
    {
      "cell_type": "code",
      "metadata": {
        "id": "ZHGtPCHpd2CU",
        "colab_type": "code",
        "outputId": "45ab08b4-eeb9-4649-811f-ea617b4b9e58",
        "colab": {
          "base_uri": "https://localhost:8080/",
          "height": 496
        }
      },
      "source": [
        "#plot the comparison of Actual and Predicted values\n",
        "\n",
        "df.plot(kind='bar',figsize=(10,8))\n",
        "#plt.grid(which='major', linestyle='-', linewidth='0.5', color='green')\n",
        "#plt.grid(which='minor', linestyle=':', linewidth='0.5', color='black')\n",
        "plt.show()"
      ],
      "execution_count": 0,
      "outputs": [
        {
          "output_type": "display_data",
          "data": {
            "image/png": "[encoded data removed]",
            "text/plain": [
              "<Figure size 720x576 with 1 Axes>"
            ]
          },
          "metadata": {
            "tags": []
          }
        }
      ]
    },
    {
      "cell_type": "code",
      "metadata": {
        "id": "Ia3R-AHud60_",
        "colab_type": "code",
        "outputId": "35d62ea4-ad35-4587-aaea-9a8ee80b4b53",
        "colab": {
          "base_uri": "https://localhost:8080/",
          "height": 68
        }
      },
      "source": [
        "from sklearn import metrics\n",
        "\n",
        "print('Mean Absolute Error:', metrics.mean_absolute_error(y_test, y_pred))  \n",
        "print('Mean Squared Error:', metrics.mean_squared_error(y_test, y_pred))  \n",
        "print('Root Mean Squared Error:', np.sqrt(metrics.mean_squared_error(y_test, y_pred)))"
      ],
      "execution_count": 0,
      "outputs": [
        {
          "output_type": "stream",
          "text": [
            "Mean Absolute Error: 0.3866506766727702\n",
            "Mean Squared Error: 0.2479279050774673\n",
            "Root Mean Squared Error: 0.4979235936139874\n"
          ],
          "name": "stdout"
        }
      ]
    },
    {
      "cell_type": "code",
      "metadata": {
        "id": "Q2p6Y8dseIRb",
        "colab_type": "code",
        "colab": {}
      },
      "source": [
        ""
      ],
      "execution_count": 0,
      "outputs": []
    }
  ]
}